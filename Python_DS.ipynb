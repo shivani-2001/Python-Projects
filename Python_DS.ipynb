{
 "cells": [
  {
   "cell_type": "markdown",
   "id": "3612e2b8",
   "metadata": {},
   "source": [
    "Literal objects\n",
    "Non-Literal objects\n",
    "\n",
    "Mutator and accessor Methods - \n",
    "Accessor methods access the current state of an object but don’t change the object. Accessor methods return new object references when called."
   ]
  },
  {
   "cell_type": "markdown",
   "id": "5c6a89cb",
   "metadata": {},
   "source": [
    "Operator overloading - Magic Methods \n",
    "Method automatically gets called when an operator is used in an expression."
   ]
  },
  {
   "cell_type": "code",
   "execution_count": 1,
   "id": "271f637f",
   "metadata": {},
   "outputs": [
    {
     "data": {
      "text/plain": [
       "89"
      ]
     },
     "execution_count": 1,
     "metadata": {},
     "output_type": "execute_result"
    }
   ],
   "source": [
    "def find_prime(x):\n",
    "    val = 0\n",
    "    i = 0\n",
    "    while val < x:\n",
    "        if i == 0 or i == 1:\n",
    "            pass\n",
    "        else:\n",
    "            for j in range(2, int(i/2)+1):\n",
    "                if i % j == 0:\n",
    "                    break\n",
    "            else:\n",
    "                lower = val\n",
    "                val = i\n",
    "        i += 1\n",
    "    if (x == 0 or x == 1 or x == 2):\n",
    "        return 2\n",
    "    elif abs(lower-x) <= abs(val-x):\n",
    "        return lower\n",
    "    else:\n",
    "        return val\n",
    "    \n",
    "find_prime(90)"
   ]
  },
  {
   "cell_type": "code",
   "execution_count": 2,
   "id": "86fcb3b4",
   "metadata": {},
   "outputs": [
    {
     "data": {
      "text/plain": [
       "89"
      ]
     },
     "execution_count": 2,
     "metadata": {},
     "output_type": "execute_result"
    }
   ],
   "source": [
    "def find_prime(x):\n",
    "    upper = 0\n",
    "    i = x\n",
    "    while upper < x:\n",
    "        if i == 0 or i == 1:\n",
    "            pass\n",
    "        else:\n",
    "            for j in range(2, int(i/2)+1):\n",
    "                if i % j == 0:\n",
    "                    break\n",
    "            else:\n",
    "                upper = i\n",
    "                break\n",
    "        i += 1\n",
    "\n",
    "    lower = 2\n",
    "    i = x-1\n",
    "    while i >= 2:\n",
    "        for j in range(2, int(i/2)+1):\n",
    "            if i % j == 0:\n",
    "                break\n",
    "        else:\n",
    "            lower = i\n",
    "            break\n",
    "        i -= 1\n",
    "\n",
    "    if (x == 0 or x == 1 or x == 2):\n",
    "        return 2\n",
    "    elif abs(lower-x) <= abs(upper-x):\n",
    "        return lower\n",
    "    else:\n",
    "        return upper\n",
    "    \n",
    "find_prime(90)"
   ]
  },
  {
   "cell_type": "code",
   "execution_count": 3,
   "id": "c5bb3590",
   "metadata": {},
   "outputs": [
    {
     "data": {
      "text/plain": [
       "89"
      ]
     },
     "execution_count": 3,
     "metadata": {},
     "output_type": "execute_result"
    }
   ],
   "source": [
    "def find_prime(x):\n",
    "    prime = False\n",
    "    i = x\n",
    "    j = x+1\n",
    "    prime_no = 2\n",
    "    \n",
    "    while not prime:\n",
    "        if i == 0 or i == 1:\n",
    "            return prime_no\n",
    "        else:\n",
    "            if i==x:\n",
    "                for k in range(2, int(i/2)+1):\n",
    "                    if i % k == 0:\n",
    "                        i -= 1\n",
    "                        break\n",
    "                else:\n",
    "                    prime_no = i\n",
    "                    prime = True\n",
    "                    break\n",
    "                    \n",
    "            for k in range(2, int(i/2)+1):\n",
    "                if i % k == 0:\n",
    "                    break\n",
    "            else:\n",
    "                prime_no = i\n",
    "                prime = True\n",
    "                break\n",
    "        \n",
    "            for k in range(2, int(j/2)+1):\n",
    "                if j % k == 0:\n",
    "                    break\n",
    "            else:\n",
    "                prime_no = j\n",
    "                prime = True\n",
    "                break         \n",
    "        i -= 1\n",
    "        j += 1\n",
    "            \n",
    "    return prime_no\n",
    "            \n",
    "    \n",
    "find_prime(90)"
   ]
  },
  {
   "cell_type": "code",
   "execution_count": 4,
   "id": "cc42b638",
   "metadata": {},
   "outputs": [
    {
     "name": "stdout",
     "output_type": "stream",
     "text": [
      "95 91\n"
     ]
    },
    {
     "data": {
      "text/plain": [
       "92"
      ]
     },
     "execution_count": 4,
     "metadata": {},
     "output_type": "execute_result"
    }
   ],
   "source": [
    "def is_prime(y):\n",
    "    for k in range(2, int(y/2)+1):\n",
    "        if y % k == 0:\n",
    "            return 0\n",
    "    else:\n",
    "        return 1\n",
    "\n",
    "def find_prime(x):\n",
    "    if (x == 0 or x == 1 or x == 2):\n",
    "        return 2\n",
    "    if is_prime(x):\n",
    "        return x\n",
    "    if (x == 3 or x == 4):\n",
    "        return 3\n",
    "    \n",
    "    n1 = round((x+1)/6)\n",
    "    n2 = round((x-1)/6)\n",
    "    \n",
    "    prime1 = (6*n1)-1\n",
    "    prime2 = (6*n2)+1\n",
    "    \n",
    "    print(prime1, prime2)\n",
    "    if is_prime(prime1) and is_prime(prime2):\n",
    "        if abs(prime1-x) == abs(prime2-x):\n",
    "            if prime1 <= prime2:\n",
    "                return prime1\n",
    "            else:\n",
    "                return prime2\n",
    "        elif abs(prime1-x) < abs(prime2-x):\n",
    "            return prime1\n",
    "        else:\n",
    "            return prime2\n",
    "    elif is_prime(prime1):\n",
    "        return prime1\n",
    "    elif is_prime(prime2):\n",
    "        return prime2\n",
    "    else:\n",
    "        return x\n",
    "    \n",
    "find_prime(92)"
   ]
  },
  {
   "cell_type": "code",
   "execution_count": 5,
   "id": "1d1346f9",
   "metadata": {},
   "outputs": [
    {
     "data": {
      "text/plain": [
       "89"
      ]
     },
     "execution_count": 5,
     "metadata": {},
     "output_type": "execute_result"
    }
   ],
   "source": [
    "import math\n",
    "def find_prime(x):\n",
    "    prime = False\n",
    "    i = x\n",
    "    j = x+1\n",
    "    prime_no = 2\n",
    "    \n",
    "    while not prime:\n",
    "        if i == 0 or i == 1:\n",
    "            return prime_no\n",
    "        else:\n",
    "            if i==x:\n",
    "                for k in range(2, int(math.sqrt(i))+1):\n",
    "                    if i % k == 0:\n",
    "                        i -= 1\n",
    "                        break\n",
    "                else:\n",
    "                    prime_no = i\n",
    "                    prime = True\n",
    "                    break\n",
    "                    \n",
    "            for k in range(2, int(math.sqrt(i))+1):\n",
    "                if i % k == 0:\n",
    "                    break\n",
    "            else:\n",
    "                prime_no = i\n",
    "                prime = True\n",
    "                break\n",
    "        \n",
    "            for k in range(2, int(math.sqrt(j))+1):\n",
    "                if j % k == 0:\n",
    "                    break\n",
    "            else:\n",
    "                prime_no = j\n",
    "                prime = True\n",
    "                break         \n",
    "        i -= 1\n",
    "        j += 1\n",
    "            \n",
    "    return prime_no\n",
    "            \n",
    "    \n",
    "find_prime(90)"
   ]
  },
  {
   "cell_type": "markdown",
   "id": "da898a9f",
   "metadata": {},
   "source": [
    "Accessing Elements in a Python List\n",
    "\n",
    "1. The size of a list does not affect the average access time in the list.\n",
    "2. The average access time at any location within a list is the same, regardless of its\n",
    "location within the list."
   ]
  },
  {
   "cell_type": "code",
   "execution_count": 6,
   "id": "11001584",
   "metadata": {},
   "outputs": [],
   "source": [
    "import datetime\n",
    "import random\n",
    "import time\n",
    "\n",
    "def main():\n",
    "    # Test lists of size 1000 to 200000.\n",
    "    xmin = 1000\n",
    "    xmax = 200000\n",
    "\n",
    "    # Record the list sizes in xList and the average access time within\n",
    "    # a list that size in yList for 1000 retrievals.\n",
    "    xList = []\n",
    "    yList = []\n",
    "    \n",
    "    for x in range(xmin, xmax+1, 1000):\n",
    "        xList.append(x)\n",
    "        prod = 0\n",
    "\n",
    "        # Creates a list of size x with all 0’s\n",
    "        lst = [0] * x\n",
    "        # let any garbage collection/memory allocation complete or at least\n",
    "        # settle down\n",
    "        time.sleep(1)\n",
    "        # Time before the 1000 test retrievals\n",
    "        starttime = datetime.datetime.now()\n",
    "        for v in range(1000):\n",
    "            # Find a random location within the list\n",
    "            # and retrieve a value. Do a dummy operation\n",
    "            # with that value to ensure it is really retrieved.\n",
    "            index = random.randint(0, x-1)\n",
    "            val = lst[index]\n",
    "            prod = prod * val\n",
    "            # Time after the 1000 test retrievals\n",
    "        endtime = datetime.datetime.now()\n",
    "        # The difference in time between start and end.\n",
    "        deltaT = endtime - starttime\n",
    "        # Divide by 1000 for the average access time\n",
    "        # But also multiply by 1000000 for microseconds.\n",
    "        accessTime = deltaT.total_seconds() * 1000\n",
    "        yList.append(accessTime)\n",
    "\n",
    "    # This part of the program tests access at 100 random locations within a list\n",
    "    # of 200,000 elements to see that all the locations can be accessed in\n",
    "    # about the same amount of time.\n",
    "    xList1 = lst\n",
    "    yList1 = [0] * 200000\n",
    "    time.sleep(2)\n",
    "    for i in range(100):\n",
    "        starttime = datetime.datetime.now()\n",
    "        index = random.randint(0, 200000-1)\n",
    "        xList1[index] = xList1[index] + 1\n",
    "        endtime = datetime.datetime.now()\n",
    "        deltaT = endtime - starttime\n",
    "        yList1[index] = yList1[index] + deltaT.total_seconds() * 1000000\n",
    "        \n",
    "    return xList, yList, xList1, yList1\n",
    "    \n",
    "if __name__ == \"__main__\":\n",
    "    xList, yList, xList1, yList1 = main()"
   ]
  },
  {
   "cell_type": "code",
   "execution_count": 7,
   "id": "02fbee9d",
   "metadata": {},
   "outputs": [
    {
     "data": {
      "text/plain": [
       "[<matplotlib.lines.Line2D at 0x7f87fab90670>]"
      ]
     },
     "execution_count": 7,
     "metadata": {},
     "output_type": "execute_result"
    },
    {
     "data": {
      "image/png": "[encoded data removed]",
      "text/plain": [
       "<Figure size 432x288 with 1 Axes>"
      ]
     },
     "metadata": {
      "needs_background": "light"
     },
     "output_type": "display_data"
    }
   ],
   "source": [
    "import matplotlib.pyplot as plt\n",
    "plt.plot(xList, yList, color = 'b', marker='.', mec='g')"
   ]
  },
  {
   "cell_type": "code",
   "execution_count": 8,
   "id": "3bbbc381",
   "metadata": {},
   "outputs": [
    {
     "data": {
      "text/plain": [
       "[<matplotlib.lines.Line2D at 0x7f87fac1f850>]"
      ]
     },
     "execution_count": 8,
     "metadata": {},
     "output_type": "execute_result"
    },
    {
     "data": {
      "image/png": "[encoded data removed]",
      "text/plain": [
       "<Figure size 432x288 with 1 Axes>"
      ]
     },
     "metadata": {
      "needs_background": "light"
     },
     "output_type": "display_data"
    }
   ],
   "source": [
    "plt.plot(xList1, yList1, color = 'r', marker='.', mec='g')"
   ]
  },
  {
   "cell_type": "markdown",
   "id": "73060572",
   "metadata": {},
   "source": [
    "The formal statement of an upper bound is called Big-Oh notation. The size of the list does not change the time needed\n",
    "to access or store an element and there is a fixed upper bound for the amount of time needed to access or store a value in memory or in a list - O(1). Appending an item to a list is a O(1) operation. \n",
    "\n",
    "Clearly an algorithm that has exponential complexity (i.e. O(cn)) or n-squared complexity (i.e. O(n2)) complexity will not perform very well except for very small values of n. If you know your algorithm will never be called for large values of n then an inefficient algorithm might be acceptable, but you would have to be really sure that you knew that your data size would always be small. Typically we want to design algorithms that are as efficient as possible.\n",
    "\n"
   ]
  },
  {
   "cell_type": "markdown",
   "id": "c25c3cea",
   "metadata": {},
   "source": [
    "1. Devise an experiment to discover the complexity of comparing strings in Python.\n",
    "Does the size of the string affect the efficiency of the string comparison and if so,\n",
    "what is the complexity of the comparison? In this experiment you might want to\n",
    "consider a best case, worst case, and average case complexity. \n",
    "\n",
    "2. Conduct an experiment to prove that the product of two numbers does not depend\n",
    "on the size of the two numbers being multiplied. Write a program that plots the\n",
    "results of multiplying numbers of various sizes together. Verify that it truly is a O(1) operation. Do you see any anomalies? It might be\n",
    "explained by Python’s support of large integers.\n",
    "\n",
    "3. Write a short function that searches for a particular value in a list and returns the\n",
    "position of that value in the list (i.e. its index). Then write a program that times\n",
    "how long it takes to search for an item in lists of different sizes. The size of the\n",
    "list is your n."
   ]
  },
  {
   "cell_type": "markdown",
   "id": "0da1d1ba",
   "metadata": {},
   "source": [
    "x = int(\"6\")\n",
    "Python would first look in the local scope to see if int were defined as a function\n",
    "or variable within that local scope. If int is not found within the local scope, Python\n",
    "would look in all the enclosing scopes starting with the next inner-most local scope\n",
    "and working outwards from there. If not found in any of the enclosing scopes, Python\n",
    "would then look in the global scope for the int identifier. If not found there, then\n",
    "Python would consult the Built-In scope, where it would find the int class or type.\n",
    "\n",
    "LEGB\n",
    "Mark Lutz, in his book Learning Python, described the rules of scope in Python\n",
    "programs using the LEGB acronym. This acronym, standing for Local, Enclosing,\n",
    "Global, and Built-In can help you memorize the rules of scope in Python. The order\n",
    "of the letters in the acronym is important. When the Python interpreter encounters an\n",
    "identifier in a program, it searches the local scope first, followed by all the enclosing\n",
    "scopes from the inside outward, followed by the global scope, and finally the built-in\n",
    "scope."
   ]
  },
  {
   "cell_type": "code",
   "execution_count": 9,
   "id": "f7b2ae3a",
   "metadata": {},
   "outputs": [],
   "source": [
    "import datetime\n",
    "import random\n",
    "import time\n",
    "\n",
    "def main():\n",
    "    # Test lists of size 1000 to 200000.\n",
    "    xmin = 1000\n",
    "    xmax = 200000\n",
    "\n",
    "    # Record the list sizes in xList and the average access time within\n",
    "    # a list that size in yList for 1000 retrievals.\n",
    "    xList = []\n",
    "    yList = []\n",
    "    \n",
    "    for x in range(xmin, xmax+1, 1000):\n",
    "        xList.append(x)\n",
    "        prod = 0\n",
    "    \n",
    "        # Creates a list of size x with all 0’s\n",
    "        str1 = 's1' * x\n",
    "        str2 = 's2' * x\n",
    "        time.sleep(1)\n",
    "        starttime = datetime.datetime.now()\n",
    "        res = (str1==str2)\n",
    "        endtime = datetime.datetime.now()\n",
    "        # The difference in time between start and end.\n",
    "        deltaT = endtime - starttime\n",
    "        # Divide by 1000 for the average access time\n",
    "        # But also multiply by 1000000 for microseconds.\n",
    "        accessTime = deltaT.total_seconds() * 1000\n",
    "        yList.append(accessTime)\n",
    "\n",
    "    return xList, yList\n",
    "    \n",
    "if __name__ == \"__main__\":\n",
    "    xList, yList = main()"
   ]
  },
  {
   "cell_type": "code",
   "execution_count": 10,
   "id": "16adf1ac",
   "metadata": {},
   "outputs": [
    {
     "data": {
      "text/plain": [
       "[<matplotlib.lines.Line2D at 0x7f87e847d7f0>]"
      ]
     },
     "execution_count": 10,
     "metadata": {},
     "output_type": "execute_result"
    },
    {
     "data": {
      "image/png": "[encoded data removed]",
      "text/plain": [
       "<Figure size 432x288 with 1 Axes>"
      ]
     },
     "metadata": {
      "needs_background": "light"
     },
     "output_type": "display_data"
    }
   ],
   "source": [
    "import matplotlib.pyplot as plt\n",
    "plt.plot(xList, yList, color = 'b', marker='.', mec='g')"
   ]
  },
  {
   "cell_type": "code",
   "execution_count": 11,
   "id": "27f56bb5",
   "metadata": {},
   "outputs": [],
   "source": [
    "import datetime\n",
    "import random\n",
    "import time\n",
    "\n",
    "def main():\n",
    "    # Test lists of size 1000 to 200000.\n",
    "    xmin = 1000\n",
    "    xmax = 200000\n",
    "\n",
    "    # Record the list sizes in xList and the average access time within\n",
    "    # a list that size in yList for 1000 retrievals.\n",
    "    xList = []\n",
    "    yList = []\n",
    "    \n",
    "    for x in range(xmin, xmax+1, 1000):\n",
    "        xList.append(x)\n",
    "        prod = 0\n",
    "        \n",
    "        time.sleep(1)\n",
    "        starttime = datetime.datetime.now()\n",
    "        res = x * x\n",
    "        endtime = datetime.datetime.now()\n",
    "        # The difference in time between start and end.\n",
    "        deltaT = endtime - starttime\n",
    "        # Divide by 1000 for the average access time\n",
    "        # But also multiply by 1000000 for microseconds.\n",
    "        accessTime = deltaT.total_seconds() * 1000\n",
    "        yList.append(accessTime)\n",
    "\n",
    "    return xList, yList\n",
    "    \n",
    "if __name__ == \"__main__\":\n",
    "    xList, yList = main()"
   ]
  },
  {
   "cell_type": "code",
   "execution_count": 12,
   "id": "ba4066ee",
   "metadata": {},
   "outputs": [
    {
     "data": {
      "text/plain": [
       "[<matplotlib.lines.Line2D at 0x7f87e8564a90>]"
      ]
     },
     "execution_count": 12,
     "metadata": {},
     "output_type": "execute_result"
    },
    {
     "data": {
      "image/png": "[encoded data removed]",
      "text/plain": [
       "<Figure size 432x288 with 1 Axes>"
      ]
     },
     "metadata": {
      "needs_background": "light"
     },
     "output_type": "display_data"
    }
   ],
   "source": [
    "import matplotlib.pyplot as plt\n",
    "plt.plot(xList, yList, color = 'b', marker='.', mec='g')"
   ]
  },
  {
   "cell_type": "code",
   "execution_count": 13,
   "id": "0f68840b",
   "metadata": {
    "scrolled": true
   },
   "outputs": [],
   "source": [
    "import datetime\n",
    "import random\n",
    "import time\n",
    "\n",
    "def main():\n",
    "    # Test lists of size 1000 to 200000.\n",
    "    xmin = 1000\n",
    "    xmax = 200000\n",
    "\n",
    "    # Record the list sizes in xList and the average access time within\n",
    "    # a list that size in yList for 1000 retrievals.\n",
    "    xList = []\n",
    "    yList = []\n",
    "    \n",
    "    for x in range(xmin, xmax+1, 1000):\n",
    "        xList.append(x)\n",
    "        prod = 0\n",
    "        randomlist = random.sample(range(xmin, xmax+1000), x)\n",
    "        time.sleep(1)\n",
    "        starttime = datetime.datetime.now()\n",
    "        n = random.randint(xmin, xmax)\n",
    "        res = (n in randomlist)\n",
    "        endtime = datetime.datetime.now()\n",
    "        # The difference in time between start and end.\n",
    "        deltaT = endtime - starttime\n",
    "        # Divide by 1000 for the average access time\n",
    "        # But also multiply by 1000000 for microseconds.\n",
    "        accessTime = deltaT.total_seconds() * 1000\n",
    "        yList.append(accessTime)\n",
    "\n",
    "    return xList, yList\n",
    "    \n",
    "if __name__ == \"__main__\":\n",
    "    xList, yList = main()"
   ]
  },
  {
   "cell_type": "code",
   "execution_count": 15,
   "id": "1a1369e3",
   "metadata": {},
   "outputs": [
    {
     "data": {
      "text/plain": [
       "[<matplotlib.lines.Line2D at 0x7f87d82a9c40>]"
      ]
     },
     "execution_count": 15,
     "metadata": {},
     "output_type": "execute_result"
    },
    {
     "data": {
      "image/png": "[encoded data removed]",
      "text/plain": [
       "<Figure size 432x288 with 1 Axes>"
      ]
     },
     "metadata": {
      "needs_background": "light"
     },
     "output_type": "display_data"
    }
   ],
   "source": [
    "import matplotlib.pyplot as plt\n",
    "plt.plot(xList, yList, color = 'b', marker='.', mec='g')"
   ]
  },
  {
   "cell_type": "markdown",
   "id": "de4a322d",
   "metadata": {},
   "source": [
    "A recursive function is simply a function that calls itself with a base case.\n",
    "\n",
    "When writing a recursive function there are some rules that you adhere to. These\n",
    "rules are not negotiable and will ensure that your recursive function will eventually\n",
    "finish. If you memorize and learn to follow these rules you will be writing recursive\n",
    "functions in no time. The rules are:\n",
    "\n",
    "1. Decide on the name of your function and the arguments that must be passed to it\n",
    "to complete its work as well as what value the function should return.\n",
    "2. Write the base case for your recursive function first. The base case is an if state-\n",
    "ment that handles a very simple case in the recursive function by returning a\n",
    "value.\n",
    "3. Finally, you must call the function recursively with an argument or arguments\n",
    "that are smaller in some way than the parameters that were passed to the function\n",
    "when the last call was made. The argument or arguments that get smaller are the\n",
    "same argument or arguments you examined in your base case."
   ]
  },
  {
   "cell_type": "code",
   "execution_count": 14,
   "id": "ac926128",
   "metadata": {},
   "outputs": [
    {
     "name": "stdout",
     "output_type": "stream",
     "text": [
      "Please enter a non-negative integer: 5\n",
      "The sum of the first 5 integers is 15.\n"
     ]
    }
   ],
   "source": [
    "def recSumFirstN(n):\n",
    "    if n == 0:\n",
    "        return 0\n",
    "    return recSumFirstN(n-1) + n\n",
    "\n",
    "def main():\n",
    "    x = int(input(\"Please enter a non-negative integer: \"))\n",
    "    s = recSumFirstN(x)\n",
    "    print(\"The sum of the first\", x, \"integers is\", str(s)+\".\")\n",
    "    \n",
    "if __name__ == \"__main__\":\n",
    "    main()"
   ]
  },
  {
   "cell_type": "markdown",
   "id": "f8076bd7",
   "metadata": {},
   "source": [
    "1. If a recursive function did not have a base case, what would happen when it was called?\n",
    "\n",
    "If a recursive function continues to call itself over and over without base case it will eventually fill up the run-time stack and you will get a stack overflow error when running such a program."
   ]
  },
  {
   "cell_type": "markdown",
   "id": "1f00f8c7",
   "metadata": {},
   "source": [
    "What kind of sorting algorithm does Python use and what is its computational complexity - Quick sort"
   ]
  },
  {
   "cell_type": "code",
   "execution_count": 1,
   "id": "b0174524",
   "metadata": {},
   "outputs": [
    {
     "name": "stdout",
     "output_type": "stream",
     "text": [
      "[0, 1, 2, 5, 6, 7, 8, 9]\n"
     ]
    }
   ],
   "source": [
    "# Bubble sort - O(n^2)\n",
    "\n",
    "l1 = [5, 8, 2, 6, 9, 1, 0, 7]\n",
    "\n",
    "for i in range(len(l1)-1):\n",
    "    for j in range(i+1, len(l1)):\n",
    "        if l1[i] > l1[j]:\n",
    "            temp = l1[i]\n",
    "            l1[i] = l1[j]\n",
    "            l1[j] = temp\n",
    "print(l1)"
   ]
  },
  {
   "cell_type": "markdown",
   "id": "db0ed7e4",
   "metadata": {},
   "source": [
    "The Merge Sort algorithm is one instance of a divide and conquer algorithm. One criticism of the merge sort algorithm is that the elements of the two sublists cannot be merged without copying to a new list and then back again. Other sorting methods, like Quicksort, have the same O(n log n) complexity as merge sort and do not require an extra list."
   ]
  },
  {
   "cell_type": "code",
   "execution_count": 1,
   "id": "2fc403d1",
   "metadata": {},
   "outputs": [
    {
     "name": "stdout",
     "output_type": "stream",
     "text": [
      "[0, 1, 2, 5, 6, 7, 8, 9]\n"
     ]
    }
   ],
   "source": [
    "def mergeSort(nlist):\n",
    "    if len(nlist)>1:\n",
    "        mid = len(nlist)//2\n",
    "        lefthalf = nlist[:mid]\n",
    "        righthalf = nlist[mid:]\n",
    "\n",
    "        mergeSort(lefthalf)\n",
    "        mergeSort(righthalf)\n",
    "        i=j=k=0       \n",
    "        while i < len(lefthalf) and j < len(righthalf):\n",
    "            if lefthalf[i] < righthalf[j]:\n",
    "                nlist[k]=lefthalf[i]\n",
    "                i=i+1\n",
    "            else:\n",
    "                nlist[k]=righthalf[j]\n",
    "                j=j+1\n",
    "            k=k+1\n",
    "\n",
    "        while i < len(lefthalf):\n",
    "            nlist[k]=lefthalf[i]\n",
    "            i=i+1\n",
    "            k=k+1\n",
    "\n",
    "        while j < len(righthalf):\n",
    "            nlist[k]=righthalf[j]\n",
    "            j=j+1\n",
    "            k=k+1\n",
    "\n",
    "nlist = [5, 8, 2, 6, 9, 1, 0, 7]\n",
    "mergeSort(nlist)\n",
    "print(nlist)"
   ]
  },
  {
   "cell_type": "markdown",
   "id": "2e531513",
   "metadata": {},
   "source": [
    "Quicksort is a divide and conquer algorithm. Quicksort is the sorting algorithm used by the sort method on lists. It's time complexity is O(n logn). Merge sort is not affected by the choice of a pivot, since no choice is necessary.\n",
    "Therefore, merge sort does not have a worst case or best case to consider. It will always\n",
    "achieve O(n log n) complexity. Even so, quicksort performs better in practice than\n",
    "merge sort because the quicksort algorithm does not need to copy to a new list and then\n",
    "back again. The quicksort algorithm is the de facto standard of sorting algorithms."
   ]
  },
  {
   "cell_type": "code",
   "execution_count": 2,
   "id": "2b38929f",
   "metadata": {},
   "outputs": [
    {
     "name": "stdout",
     "output_type": "stream",
     "text": [
      "[0, 1, 2, 5, 6, 7, 8, 9]\n"
     ]
    }
   ],
   "source": [
    "def partition(array, start, end):\n",
    "    pivot = array[start]\n",
    "    low = start+1\n",
    "    high = end\n",
    "    while low<=high:\n",
    "        while low <= high and array[high] >= pivot:\n",
    "            high = high - 1\n",
    "\n",
    "        while low <= high and array[low] <= pivot:\n",
    "            low = low + 1\n",
    "\n",
    "        if low <= high:\n",
    "            array[low], array[high] = array[high], array[low]\n",
    "            \n",
    "    array[start], array[high] = array[high], array[start]\n",
    "    return high\n",
    "\n",
    "\n",
    "def quickSort(nlist, start, end):\n",
    "    if start >= end:\n",
    "        return\n",
    "    \n",
    "    pivot = partition(nlist, start, end)   \n",
    "    quickSort(nlist, start, pivot-1)\n",
    "    quickSort(nlist, pivot+1, end)\n",
    "        \n",
    "\n",
    "nlist = [5, 8, 2, 6, 9, 1, 0, 7]\n",
    "quickSort(nlist, 0, len(nlist)-1)\n",
    "print(nlist)"
   ]
  },
  {
   "cell_type": "markdown",
   "id": "e058b7f7",
   "metadata": {},
   "source": [
    "What is the complexity of the concatenation operator, the + operator, for lists? O(m+n)"
   ]
  },
  {
   "cell_type": "code",
   "execution_count": 1,
   "id": "31211bec",
   "metadata": {},
   "outputs": [
    {
     "name": "stdout",
     "output_type": "stream",
     "text": [
      "10\n",
      "5\n",
      "Chars\n",
      "A\n",
      "B\n",
      "C\n",
      "D\n",
      "E\n",
      "F\n"
     ]
    },
    {
     "data": {
      "text/plain": [
       "9"
      ]
     },
     "execution_count": 1,
     "metadata": {},
     "output_type": "execute_result"
    }
   ],
   "source": [
    "# Linked List - Operations\n",
    "\n",
    "class Node:\n",
    "    def __init__(self, data=None, next=None):\n",
    "        self.data = data\n",
    "        self.next = next\n",
    "        \n",
    "class LinkedList:\n",
    "    def __init__(self):\n",
    "        self.head = None\n",
    "        \n",
    "    def insert_at_begining(self, data):\n",
    "        node = Node(data, self.head)\n",
    "        self.head = node\n",
    "        \n",
    "    def insert_at_end(self, data):\n",
    "        if self.head is None:\n",
    "            node = Node(data, self.head)\n",
    "            self.head = node\n",
    "            return\n",
    "        \n",
    "        itr = self.head\n",
    "        while itr.next:\n",
    "            itr = itr.next\n",
    "        node = Node(data, None)\n",
    "        itr.next = node\n",
    "        \n",
    "    def insert_at_index(self, data, index):        \n",
    "        itr = self.head\n",
    "        index = index-1\n",
    "        c = 1\n",
    "        if index<0 or index>=self.count_list():\n",
    "            print('Index out of range...')\n",
    "            return \n",
    "        \n",
    "        if index==0:\n",
    "            node = Node(data, self.head)\n",
    "            self.head = node\n",
    "            return\n",
    "        \n",
    "        while itr:\n",
    "            if c==index:\n",
    "                node = Node(data, itr.next)\n",
    "                itr.next = node\n",
    "                break\n",
    "            itr = itr.next\n",
    "            c += 1\n",
    "            \n",
    "    def delete_at_index(self, index):        \n",
    "        itr = self.head\n",
    "        index = index\n",
    "        c = 1       \n",
    "        if index<1 or index>=self.count_list():\n",
    "            print('Index out of range...')\n",
    "            return \n",
    "        \n",
    "        if index==1:\n",
    "            self.head = self.head.next\n",
    "            return\n",
    "        \n",
    "        while itr:\n",
    "            if c+1 == index:\n",
    "                itr.next = itr.next.next\n",
    "                break\n",
    "            itr = itr.next\n",
    "            c += 1\n",
    "        \n",
    "    def print_list(self):\n",
    "        if self.head is None:\n",
    "            print('Linked list is empty...')\n",
    "            return\n",
    "        \n",
    "        itr = self.head\n",
    "        while itr:\n",
    "            print(itr.data)\n",
    "            itr = itr.next\n",
    "            \n",
    "    def insert_values(self, data_list):\n",
    "        for data in data_list:\n",
    "            self.insert_at_end(data)\n",
    "            \n",
    "    def count_list(self):\n",
    "        if self.head is None:\n",
    "            print('Linked list is empty...')\n",
    "            return\n",
    "        \n",
    "        itr = self.head\n",
    "        c = 0\n",
    "        while itr:\n",
    "            c += 1\n",
    "            itr = itr.next\n",
    "        return c\n",
    "        \n",
    "l1 = LinkedList()\n",
    "l1.insert_at_begining(5)\n",
    "l1.insert_at_begining(10)\n",
    "l1.insert_at_end(8)\n",
    "l1.insert_values(['A', 'B', 'C', 'D', 'E', 'F'])\n",
    "l1.insert_at_index('Chars', 3)\n",
    "l1.delete_at_index(4)\n",
    "l1.print_list()\n",
    "l1.count_list()"
   ]
  },
  {
   "cell_type": "code",
   "execution_count": 50,
   "id": "2b962b63",
   "metadata": {},
   "outputs": [
    {
     "name": "stdout",
     "output_type": "stream",
     "text": [
      "BasantiLal\n",
      "   Balkishan\n",
      "      Ayush\n",
      "      Aman\n",
      "      Anshika\n",
      "   Brajmohan\n",
      "      Shivani\n",
      "      Nitin\n",
      "      Krishna\n",
      "BasantiLal\n",
      "   Brajmohan\n",
      "      Shivani\n",
      "      Nitin\n",
      "      Krishna\n",
      "BasantiLal\n",
      "   Rama\n"
     ]
    }
   ],
   "source": [
    "# Tree - Operations\n",
    "\n",
    "class TreeNode:\n",
    "    def __init__(self, data):\n",
    "        self.data = data\n",
    "        self.children = []\n",
    "        self.parent = None\n",
    "        \n",
    "    def add_child(self, child):\n",
    "        child.parent = self\n",
    "        self.children.append(child)\n",
    "        \n",
    "    def del_child(self, child):\n",
    "        self.children.remove(child)\n",
    "    \n",
    "    def update_child(self, child, child1):\n",
    "        index = self.children.index(child)\n",
    "        self.children[index] = child1\n",
    "        child1.parent = self\n",
    "       \n",
    "    def get_level(self):\n",
    "        level = 0\n",
    "        p = self.parent\n",
    "        while p:\n",
    "            p = p.parent\n",
    "            level += 1\n",
    "            \n",
    "        return level\n",
    "        \n",
    "    def print_tree(self):\n",
    "        level = self.get_level()\n",
    "        spaces = ' '*level*3\n",
    "        print(spaces + self.data)\n",
    "        if self.children:\n",
    "            for child in self.children:\n",
    "                child.print_tree()\n",
    "\n",
    "def build_tree():\n",
    "    root = TreeNode('BasantiLal')\n",
    "    child1 = TreeNode('Balkishan')\n",
    "    child2 = TreeNode('Brajmohan')\n",
    "    \n",
    "    child1.add_child(TreeNode('Ayush'))\n",
    "    child1.add_child(TreeNode('Aman'))\n",
    "    child1.add_child(TreeNode('Anshika'))\n",
    "    child2.add_child(TreeNode('Shivani'))\n",
    "    child2.add_child(TreeNode('Nitin'))\n",
    "    child2.add_child(TreeNode('Krishna'))\n",
    "    \n",
    "    root.add_child(child1)\n",
    "    root.add_child(child2)\n",
    "    root.print_tree()\n",
    "    root.del_child(child1)\n",
    "    root.print_tree()\n",
    "    child3 = TreeNode('Rama')\n",
    "    root.update_child(child2, child3)\n",
    "    root.print_tree()\n",
    "    \n",
    "    return root\n",
    "\n",
    "root = build_tree()"
   ]
  },
  {
   "cell_type": "markdown",
   "id": "a9f3567a",
   "metadata": {},
   "source": [
    "Binary Tree - Every node has atmost 2 child nodes. \n",
    "Binary Search Tree - Left tree nodes will be less than the parent node and right tree nodes will be greater than and equals to the parent node. Elements are not duplicated. Search complexity - O(logn), Insertion complexity - O(logn)\n",
    "\n",
    "Searching - BFS, DFS\n",
    "Traversals - inorder, preorder, postorder\n",
    "\n",
    "Inorder - left, node, right\n",
    "preorder - node, left, right\n",
    "postorder - left, right, node"
   ]
  },
  {
   "cell_type": "code",
   "execution_count": 51,
   "id": "67914542",
   "metadata": {},
   "outputs": [
    {
     "name": "stdout",
     "output_type": "stream",
     "text": [
      "[1, 4, 9, 17, 18, 20, 23, 34]\n",
      "Element found\n",
      "1\n",
      "34\n",
      "[1, 4, 9, 17, 18, 20, 23, 34]\n"
     ]
    }
   ],
   "source": [
    "# Binary Search Tree - Operations\n",
    "\n",
    "class BinaryTreeNode:\n",
    "    def __init__(self, data):\n",
    "        self.data = data\n",
    "        self.left = None\n",
    "        self.right = None\n",
    "        \n",
    "    def add_child(self, child):\n",
    "        if child == self.data:\n",
    "            return\n",
    "        \n",
    "        if child < self.data:\n",
    "            if self.left:\n",
    "                self.left.add_child(child)\n",
    "            else:\n",
    "                self.left = BinaryTreeNode(child)\n",
    "        else:\n",
    "            if self.right:\n",
    "                self.right.add_child(child)\n",
    "            else:\n",
    "                self.right = BinaryTreeNode(child)\n",
    "        \n",
    "    def in_order_traversal(self):\n",
    "        elements = []\n",
    "        if self.left:\n",
    "            elements += self.left.in_order_traversal()\n",
    "            \n",
    "        elements.append(self.data)\n",
    "        \n",
    "        if self.right:\n",
    "            elements += self.right.in_order_traversal()        \n",
    "        \n",
    "        return elements\n",
    "    \n",
    "    def search(self, val):\n",
    "        if val == self.data:\n",
    "            print('Element found')\n",
    "            return\n",
    "        \n",
    "        if val < self.data:\n",
    "            if self.left:\n",
    "                return self.left.search(val)\n",
    "            else:\n",
    "                print('Element not found')\n",
    "                return\n",
    "        else:\n",
    "            if self.right:\n",
    "                return self.right.search(val)\n",
    "            else:\n",
    "                print('Element not found')\n",
    "                return\n",
    "            \n",
    "    def find_min(self):\n",
    "        if self.left is None:\n",
    "            return self.data\n",
    "        else:\n",
    "            return self.left.find_min()\n",
    "            \n",
    "    def find_max(self):\n",
    "        if self.right is None:\n",
    "            return self.data\n",
    "        else:\n",
    "            return self.right.find_max()\n",
    "        \n",
    "    def delete_node(self, val):\n",
    "        if val == self.data:\n",
    "            if (self.left is None) and (self.right is None):\n",
    "                return \n",
    "            elif self.left is None:\n",
    "                min_val = self.right.find_min()\n",
    "                self.data = min_val\n",
    "                self.right = self.right.delete_node(min_val)\n",
    "            else:\n",
    "                max_val = self.left.find_max()\n",
    "                self.data = max_val\n",
    "                self.left = self.left.delete_node(max_val)\n",
    "        \n",
    "        elif val < self.data:\n",
    "            if self.left:\n",
    "                self.left = self.left.delete_node(val)\n",
    "        else:\n",
    "            if self.right:\n",
    "                self.right = self.right.delete_node(val)\n",
    "                \n",
    "        return self\n",
    "\n",
    "def build_tree(elements):\n",
    "    root = BinaryTreeNode(elements[0])\n",
    "    for i in range(1, len(elements)):\n",
    "        root.add_child(elements[i])\n",
    "        \n",
    "    return root\n",
    "\n",
    "root = build_tree([17, 4, 1, 20, 9, 23, 18, 34])\n",
    "print(root.in_order_traversal())\n",
    "root.search(17)\n",
    "print(root.find_min())\n",
    "print(root.find_max())\n",
    "root.delete_node(10)\n",
    "print(root.in_order_traversal())"
   ]
  },
  {
   "cell_type": "markdown",
   "id": "5ffdb298",
   "metadata": {},
   "source": [
    "Graph - Directed, Undirected, Directed - weighted\n",
    "In tree there should be only one path between two nodes, in graph there can be multiple paths between two nodes. \n",
    "Tree and graphs are recursive data structures. "
   ]
  },
  {
   "cell_type": "code",
   "execution_count": 52,
   "id": "457350d6",
   "metadata": {},
   "outputs": [
    {
     "name": "stdout",
     "output_type": "stream",
     "text": [
      "Graph:  {'Mumbai': ['Paris', 'Dubai'], 'Paris': ['Dubai', 'NewYork'], 'Dubai': ['NewYork'], 'NewYork': ['Toronto']}\n",
      "Routes:  [['Mumbai', 'Paris', 'Dubai'], ['Mumbai', 'Dubai']]\n",
      "Shortest Route:  ['Mumbai', 'Dubai']\n"
     ]
    }
   ],
   "source": [
    "# Graph - Operations\n",
    "\n",
    "class Graph:\n",
    "    def __init__(self, edges):\n",
    "        self.edges = edges\n",
    "        self.graph_dict = {}\n",
    "        \n",
    "        for start, end in self.edges:\n",
    "            if start in self.graph_dict:\n",
    "                self.graph_dict[start].append(end)\n",
    "            else:\n",
    "                self.graph_dict[start] = [end]\n",
    "                \n",
    "        print('Graph: ', self.graph_dict)\n",
    "        \n",
    "    def get_path(self, start, end, path=[]):\n",
    "        path = path+[start]\n",
    "        \n",
    "        if start==end:\n",
    "            return [path]\n",
    "        \n",
    "        if start not in self.graph_dict:\n",
    "            return []\n",
    "        \n",
    "        paths = []\n",
    "        for node in self.graph_dict[start]:\n",
    "            if node not in path:\n",
    "                new_paths = self.get_path(node, end, path)\n",
    "                for p in new_paths:\n",
    "                    paths.append(p)\n",
    "                    \n",
    "        return paths\n",
    "    \n",
    "    def get_shortest_path(self, paths):\n",
    "        self.paths = paths\n",
    "        \n",
    "        shortest_path = None\n",
    "        for path in paths:\n",
    "            if shortest_path is None or len(shortest_path)>len(path):\n",
    "                shortest_path = path\n",
    "                \n",
    "        return shortest_path\n",
    "\n",
    "routes = [('Mumbai', 'Paris'), ('Mumbai', 'Dubai'), ('Paris', 'Dubai'), \n",
    "          ('Paris', 'NewYork'), ('Dubai', 'NewYork'), ('NewYork', 'Toronto')]\n",
    "\n",
    "route_graph = Graph(routes)\n",
    "routes = route_graph.get_path('Mumbai', 'Dubai')\n",
    "print('Routes: ', routes)\n",
    "shortest_route = route_graph.get_shortest_path(routes)\n",
    "print('Shortest Route: ', shortest_route)"
   ]
  },
  {
   "cell_type": "code",
   "execution_count": null,
   "id": "5f6c1e06",
   "metadata": {},
   "outputs": [],
   "source": []
  }
 ],
 "metadata": {
  "kernelspec": {
   "display_name": "Python 3 (ipykernel)",
   "language": "python",
   "name": "python3"
  },
  "language_info": {
   "codemirror_mode": {
    "name": "ipython",
    "version": 3
   },
   "file_extension": ".py",
   "mimetype": "text/x-python",
   "name": "python",
   "nbconvert_exporter": "python",
   "pygments_lexer": "ipython3",
   "version": "3.9.7"
  }
 },
 "nbformat": 4,
 "nbformat_minor": 5
}
