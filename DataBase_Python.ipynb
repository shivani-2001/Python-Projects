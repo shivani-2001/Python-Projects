{
 "cells": [
  {
   "cell_type": "code",
   "execution_count": 30,
   "metadata": {},
   "outputs": [],
   "source": [
    "import pymysql\n",
    "import webbrowser"
   ]
  },
  {
   "cell_type": "code",
   "execution_count": 19,
   "metadata": {},
   "outputs": [
    {
     "name": "stdout",
     "output_type": "stream",
     "text": [
      "(('school',),)\n"
     ]
    },
    {
     "name": "stderr",
     "output_type": "stream",
     "text": [
      "C:\\Users\\hp\\Anaconda3.1\\lib\\site-packages\\pymysql\\cursors.py:170: Warning: (1007, \"Can't create database 'python'; database exists\")\n",
      "  result = self._query(query)\n",
      "C:\\Users\\hp\\Anaconda3.1\\lib\\site-packages\\pymysql\\cursors.py:170: Warning: (1050, \"Table 'school' already exists\")\n",
      "  result = self._query(query)\n"
     ]
    }
   ],
   "source": [
    "servername = \"localhost\"\n",
    "username = \"root\"\n",
    "password = \"Shivani123@\"\n",
    "db = \"python\"\n",
    "server = pymysql.connect(servername, username, password, db)\n",
    "cursor = server.cursor()\n",
    "\n",
    "sql = \"CREATE DATABASE IF NOT EXISTS python;\"\n",
    "cursor.execute(sql)\n",
    "\n",
    "sql = \"USE python;\"\n",
    "cursor.execute(sql)\n",
    "\n",
    "sql = '''CREATE TABLE IF NOT EXISTS school(id integer(4) AUTO_INCREMENT PRIMARY KEY, name varchar(45), \n",
    "password varchar(20), rollno varchar(20) UNIQUE KEY); '''\n",
    "cursor.execute(sql)\n",
    "\n",
    "sql = \"SHOW tables;\"\n",
    "cursor.execute(sql)\n",
    "print(cursor.fetchall())"
   ]
  },
  {
   "cell_type": "code",
   "execution_count": 80,
   "metadata": {},
   "outputs": [
    {
     "name": "stdout",
     "output_type": "stream",
     "text": [
      "((7, 'Shi', 'Shi1234', 'BETN1CS18007'), (8, 'Shivani', 'Shi12345', 'BETN1CS18065'), (10, 'avi', 'avi12345', 'BETN1CS18006'), (11, 'avinash', 'avi@', 'BETN1CS18016'))\n"
     ]
    }
   ],
   "source": [
    "def load_data(cursor):\n",
    "    sql = \"INSERT INTO school(name, password, rollno) values('avinash', 'avi@', 'BETN1CS18016')\"\n",
    "    cursor.execute(sql)\n",
    "    cursor.execute(\"SELECT * FROM school;\")\n",
    "    print(cursor.fetchall())\n",
    "    \n",
    "if __name__ == \"__main__\":\n",
    "    servername = \"localhost\"\n",
    "    username = \"root\"\n",
    "    password = \"Shivani123@\"\n",
    "    db = \"python\"\n",
    "    server = pymysql.connect(servername, username, password, db)\n",
    "    cursor = server.cursor()\n",
    "    load_data(cursor)\n",
    "    server.commit()\n",
    "    server.close()"
   ]
  },
  {
   "cell_type": "code",
   "execution_count": 81,
   "metadata": {},
   "outputs": [],
   "source": [
    "def load_data(cursor):\n",
    "    cursor.execute(\"SELECT * FROM school;\")\n",
    "    result = cursor.fetchall()\n",
    "    return result\n",
    "tbl = \"<tr><td>ID</td><td>Name</td><td>Roll no.</td></tr>\"\n",
    "s = []\n",
    "s.append(tbl)    \n",
    "def tbl1(result1):\n",
    "    for row in result1:\n",
    "        a = \"<tr><td>%s</td>\"%row[0]\n",
    "        s.append(a)\n",
    "        b = \"<td>%s</td>\"%row[1]\n",
    "        s.append(b)\n",
    "        c = \"<td>%s</td></tr>\"%row[3]\n",
    "        s.append(c)\n",
    "\n",
    "    contents = '''<!DOCTYPE html PUBLIC \"-//W3C//DTD HTML 4.01 Transitional//EN\">\n",
    "    <html>\n",
    "    <head>\n",
    "    <meta content=\"text/html; charset=ISO-8859-1\"\n",
    "    http-equiv=\"content-type\">\n",
    "    <title>Python Webbrowser</title>\n",
    "    </head>\n",
    "    <body>\n",
    "    <table>\n",
    "    %s\n",
    "    </table>\n",
    "    </body>\n",
    "    </html>\n",
    "    '''%(s)\n",
    "    main(contents, filename)    \n",
    "\n",
    "filename = 'webbrowser.html'\n",
    "def main(contents, filename):\n",
    "    output = open(filename,\"w\")\n",
    "    output.write(contents)\n",
    "    output.close()\n",
    "\n",
    "webbrowser.open(filename)\n",
    "\n",
    "if __name__ == \"__main__\":\n",
    "    servername = \"localhost\"\n",
    "    username = \"root\"\n",
    "    password = \"Shivani123@\"\n",
    "    db = \"python\"\n",
    "    server = pymysql.connect(servername, username, password, db)\n",
    "    cursor = server.cursor()\n",
    "    result1 = load_data(cursor)\n",
    "    tbl1(result1)\n",
    "    server.commit()\n",
    "    server.close()"
   ]
  }
 ],
 "metadata": {
  "kernelspec": {
   "display_name": "Python 3",
   "language": "python",
   "name": "python3"
  },
  "language_info": {
   "codemirror_mode": {
    "name": "ipython",
    "version": 3
   },
   "file_extension": ".py",
   "mimetype": "text/x-python",
   "name": "python",
   "nbconvert_exporter": "python",
   "pygments_lexer": "ipython3",
   "version": "3.6.5"
  }
 },
 "nbformat": 4,
 "nbformat_minor": 2
}
