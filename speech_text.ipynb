{
 "cells": [
  {
   "cell_type": "code",
   "execution_count": 1,
   "metadata": {},
   "outputs": [
    {
     "name": "stdout",
     "output_type": "stream",
     "text": [
      "Speak anything!!!!\n",
      "you said : hello I am Shivani your friend how are you\n",
      "sorry!!!!could not recognize your voice...\n"
     ]
    }
   ],
   "source": [
    "import speech_recognition as sr\n",
    "from gtts import gTTS\n",
    "\n",
    "r = sr.Recognizer()\n",
    "language = 'en'\n",
    "\n",
    "def hello():\n",
    "    r = sr.Recognizer()\n",
    "    language = 'en'\n",
    "    with sr.Microphone() as source:\n",
    "        print(\"Speak anything!!!!\")\n",
    "        audio=r.listen(source)\n",
    "\n",
    "        try:\n",
    "            text2=r.recognize_google(audio)\n",
    "            print(\"you said : {}\".format(text2))\n",
    "            audio = gTTS(text=text2,lang=language,slow=False)\n",
    "            audio.save(\"E:/DE/first.wav\")\n",
    "            os.system(\"first.wav\")\n",
    "            return\n",
    "\n",
    "        except:\n",
    "            print(\"sorry!!!!could not recognize your voice...\")\n",
    "\n",
    "hello()"
   ]
  }
 ],
 "metadata": {
  "kernelspec": {
   "display_name": "Python 3",
   "language": "python",
   "name": "python3"
  },
  "language_info": {
   "codemirror_mode": {
    "name": "ipython",
    "version": 3
   },
   "file_extension": ".py",
   "mimetype": "text/x-python",
   "name": "python",
   "nbconvert_exporter": "python",
   "pygments_lexer": "ipython3",
   "version": "3.8.5"
  }
 },
 "nbformat": 4,
 "nbformat_minor": 2
}
