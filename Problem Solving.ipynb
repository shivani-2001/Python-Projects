{
 "cells": [
  {
   "cell_type": "markdown",
   "metadata": {},
   "source": [
    "## 1 - Given a number n. Find all the factors of that number."
   ]
  },
  {
   "cell_type": "markdown",
   "metadata": {},
   "source": [
    "### First approach - Time complexity O(n)"
   ]
  },
  {
   "cell_type": "code",
   "execution_count": 1,
   "metadata": {
    "scrolled": true
   },
   "outputs": [
    {
     "name": "stdout",
     "output_type": "stream",
     "text": [
      "Enter a number 20\n",
      "1, 2, 4, 5, 10, 20, "
     ]
    }
   ],
   "source": [
    "n = int(input('Enter a number '))\n",
    "for i in range(1, n+1):\n",
    "    if (n%i == 0):\n",
    "        print(i, end=', ')"
   ]
  },
  {
   "cell_type": "markdown",
   "metadata": {},
   "source": [
    "### Second approach - Time complexity O(n/2)"
   ]
  },
  {
   "cell_type": "code",
   "execution_count": 2,
   "metadata": {},
   "outputs": [
    {
     "name": "stdout",
     "output_type": "stream",
     "text": [
      "Enter a number 20\n",
      "1, 2, 4, 5, 10, 20\n"
     ]
    }
   ],
   "source": [
    "n = int(input('Enter a number '))\n",
    "n1 = n//2\n",
    "for i in range(1, n1+1):\n",
    "    if (n%i == 0):\n",
    "        print(i, end=', ')\n",
    "print(n)"
   ]
  },
  {
   "cell_type": "markdown",
   "metadata": {},
   "source": [
    "### Third approach - Time complexity O(sqrt(n))"
   ]
  },
  {
   "cell_type": "code",
   "execution_count": 3,
   "metadata": {},
   "outputs": [
    {
     "name": "stdout",
     "output_type": "stream",
     "text": [
      "Enter a number 20\n",
      "1, 20, 2, 10, 4, 5, "
     ]
    }
   ],
   "source": [
    "n = int(input('Enter a number '))\n",
    "n1 = int(n**(1/2))\n",
    "for i in range(1, n1+1):\n",
    "    if (n%i == 0):\n",
    "        print(i, end=', ')\n",
    "        print(int(n/i), end=', ')"
   ]
  },
  {
   "cell_type": "markdown",
   "metadata": {},
   "source": [
    "## 2 - Given a read only array of all the numbers ranging from 1 to len(array). One is missing and one is repeated number in array. Find missing number and repeated number."
   ]
  },
  {
   "cell_type": "markdown",
   "metadata": {},
   "source": [
    "### First approach  "
   ]
  },
  {
   "cell_type": "code",
   "execution_count": 4,
   "metadata": {},
   "outputs": [
    {
     "name": "stdout",
     "output_type": "stream",
     "text": [
      "Repeated number:  3\n",
      "Missing number:  4\n"
     ]
    }
   ],
   "source": [
    "arr = (3, 1, 2, 5, 3)\n",
    "for i in range(1, len(arr)+1):\n",
    "    if i in arr:\n",
    "        b = arr.count(i)\n",
    "        if b>1:\n",
    "            print('Repeated number: ', i)\n",
    "    else:\n",
    "        print('Missing number: ', i)"
   ]
  },
  {
   "cell_type": "markdown",
   "metadata": {},
   "source": [
    "### Second approach"
   ]
  },
  {
   "cell_type": "code",
   "execution_count": 5,
   "metadata": {},
   "outputs": [
    {
     "name": "stdout",
     "output_type": "stream",
     "text": [
      "Repeated number:  3\n",
      "Missing number:  4\n"
     ]
    }
   ],
   "source": [
    "arr = (3, 1, 2, 5, 3)\n",
    "for i in range(1, len(arr)+1):\n",
    "    if i in arr:\n",
    "        b = 0\n",
    "        for ele in arr:\n",
    "            if (ele == i):\n",
    "                b +=1 \n",
    "        if b>1:\n",
    "            print('Repeated number: ', i)\n",
    "    else:\n",
    "        print('Missing number: ', i)"
   ]
  },
  {
   "cell_type": "markdown",
   "metadata": {},
   "source": [
    "### Third approach"
   ]
  },
  {
   "cell_type": "code",
   "execution_count": 6,
   "metadata": {},
   "outputs": [
    {
     "name": "stdout",
     "output_type": "stream",
     "text": [
      "Repeated number:  5\n",
      "Missing number:  3\n"
     ]
    }
   ],
   "source": [
    "arr = (4, 1, 2, 5, 5) \n",
    "arr1 = {}\n",
    "\n",
    "max1 = len(arr)\n",
    "for i in arr:\n",
    "    if not i in arr1:\n",
    "        arr1[i] = True\n",
    "    else:\n",
    "        print(\"Repeated number: \", i)\n",
    "\n",
    "for i in range(1, max1 + 1):\n",
    "    if not i in arr1:\n",
    "        print(\"Missing number: \", i)"
   ]
  },
  {
   "cell_type": "markdown",
   "metadata": {},
   "source": [
    "## 3 - Given an array of size n. Find maximum value of |arr[i]-arr[j]|."
   ]
  },
  {
   "cell_type": "markdown",
   "metadata": {},
   "source": [
    "### First approach - Time complexity O(n^2)"
   ]
  },
  {
   "cell_type": "code",
   "execution_count": 1,
   "metadata": {},
   "outputs": [
    {
     "name": "stdout",
     "output_type": "stream",
     "text": [
      "11\n"
     ]
    }
   ],
   "source": [
    "out = 0\n",
    "arr = [0, -1, 5, 7, 10]\n",
    "\n",
    "for i in range(len(arr)):\n",
    "    for j in range(i+1, len(arr)):\n",
    "        out = max(out, abs(arr[i]-arr[j]))\n",
    "        \n",
    "print(out)"
   ]
  },
  {
   "cell_type": "raw",
   "metadata": {},
   "source": [
    "Note - Every time the diffrence of arr[i] and arr[j] will be maximum by minimum value and maximum value."
   ]
  },
  {
   "cell_type": "markdown",
   "metadata": {},
   "source": [
    "### Second approach - Time complexity O(nlogn)"
   ]
  },
  {
   "cell_type": "code",
   "execution_count": 2,
   "metadata": {},
   "outputs": [
    {
     "name": "stdout",
     "output_type": "stream",
     "text": [
      "11\n"
     ]
    }
   ],
   "source": [
    "arr = [0, -1, 7, 5, 10]\n",
    "arr = sorted(arr)\n",
    "\n",
    "out = abs(arr[0]-arr[-1])\n",
    "print(out)"
   ]
  },
  {
   "cell_type": "markdown",
   "metadata": {},
   "source": [
    "### Third approach - Time complexity O(n)"
   ]
  },
  {
   "cell_type": "code",
   "execution_count": 4,
   "metadata": {},
   "outputs": [
    {
     "name": "stdout",
     "output_type": "stream",
     "text": [
      "11\n"
     ]
    }
   ],
   "source": [
    "arr = [0, -1, 7, 5, 10]\n",
    "min_arr = arr[0]\n",
    "max_arr = arr[0]\n",
    "\n",
    "for i in range(1, len(arr)):\n",
    "    if (arr[i]<min_arr):\n",
    "        min_arr = arr[i]\n",
    "    \n",
    "    if (arr[i]>max_arr):\n",
    "        max_arr = arr[i]\n",
    "        \n",
    "out = abs(min_arr-max_arr)\n",
    "print(out)"
   ]
  },
  {
   "cell_type": "markdown",
   "metadata": {},
   "source": [
    "## 4 - Given a matrix of size mxn. All the rows and columns are sorted. Given k, find it in the matrix."
   ]
  },
  {
   "cell_type": "markdown",
   "metadata": {},
   "source": [
    "### First approach - Time complexity O(n^2)"
   ]
  },
  {
   "cell_type": "code",
   "execution_count": 7,
   "metadata": {},
   "outputs": [
    {
     "name": "stdout",
     "output_type": "stream",
     "text": [
      "Enter m 3\n",
      "Enter n 4\n",
      "1\n",
      "4\n",
      "7\n",
      "10\n",
      "2\n",
      "5\n",
      "8\n",
      "11\n",
      "3\n",
      "6\n",
      "9\n",
      "12\n",
      "Enter number to find 11\n",
      "Element found at ( 2 , 4 )\n"
     ]
    }
   ],
   "source": [
    "m = int(input('Enter m '))\n",
    "n = int(input('Enter n '))\n",
    "\n",
    "matrix = []\n",
    "for i in range(m):\n",
    "    mat1 = []\n",
    "    for i in range(n):\n",
    "        mat1.append(int(input()))\n",
    "    matrix.append(mat1)\n",
    "\n",
    "k = int(input('Enter number to find '))\n",
    "    \n",
    "for i in range(m):\n",
    "    for j in range(n):\n",
    "        if(matrix[i][j] == k):\n",
    "            print(\"Element found at (\", i+1, \",\", j+1, \")\")"
   ]
  },
  {
   "cell_type": "markdown",
   "metadata": {},
   "source": [
    "### Second approach - Time complexity O(m+n)"
   ]
  },
  {
   "cell_type": "code",
   "execution_count": 12,
   "metadata": {},
   "outputs": [
    {
     "name": "stdout",
     "output_type": "stream",
     "text": [
      "Enter number to find 11\n",
      "Element found at ( 2 , 4 )\n"
     ]
    }
   ],
   "source": [
    "matrix = [[1, 4, 7, 10], [2, 5, 8, 11], [3, 6, 9, 12]]\n",
    "m = len(matrix)\n",
    "n = len(matrix[0])\n",
    "i = 0\n",
    "j = n-1\n",
    "\n",
    "k = int(input('Enter number to find '))\n",
    "\n",
    "while (i<n and j>=0):\n",
    "    if (matrix[i][j]==k):\n",
    "        print(\"Element found at (\", i+1, \",\", j+1, \")\")\n",
    "        break\n",
    "    elif (matrix[i][j]>k):\n",
    "        j-=1\n",
    "    else:\n",
    "        i+=1"
   ]
  },
  {
   "cell_type": "markdown",
   "metadata": {},
   "source": [
    "## Rain water tapped problem."
   ]
  },
  {
   "cell_type": "markdown",
   "metadata": {},
   "source": [
    "### First approach - Time complexity O(n^2)"
   ]
  },
  {
   "cell_type": "code",
   "execution_count": 18,
   "metadata": {},
   "outputs": [
    {
     "name": "stdout",
     "output_type": "stream",
     "text": [
      "6\n"
     ]
    }
   ],
   "source": [
    "array = [0, 1, 0, 2, 1, 0, 1, 3, 2, 1, 2, 1]\n",
    "n = len(array)\n",
    "trapped_water = 0\n",
    "\n",
    "for i in range(1, n-1):\n",
    "    left = arr[i]\n",
    "    for j in range(i):\n",
    "        left = max(left, arr[j])\n",
    "\n",
    "    right = arr[i]\n",
    "    for j in range(i+1 , n):\n",
    "        right = max(right, arr[j])\n",
    "\n",
    "    trapped_water = trapped_water + (min(left, right) - arr[i])\n",
    "    \n",
    "print(trapped_water)"
   ]
  },
  {
   "cell_type": "markdown",
   "metadata": {},
   "source": [
    "### Second approach - Time complexity O(n)"
   ]
  },
  {
   "cell_type": "code",
   "execution_count": 17,
   "metadata": {},
   "outputs": [
    {
     "name": "stdout",
     "output_type": "stream",
     "text": [
      "6\n"
     ]
    }
   ],
   "source": [
    "array = [0, 1, 0, 2, 1, 0, 1, 3, 2, 1, 2, 1]\n",
    "n = len(array)\n",
    "max_left = [0]*n\n",
    "max_right = [0]*n\n",
    "max_lt = array[0]\n",
    "max_rt = array[n-1]\n",
    "trapped_water = 0\n",
    "\n",
    "for i in range(n):\n",
    "    max_lt = max(array[i], max_lt)\n",
    "    max_left[i] = max_lt\n",
    "        \n",
    "for i in range(n-1, -1, -1):\n",
    "    max_rt = max(array[i], max_rt)\n",
    "    max_right[i] = max_rt\n",
    "\n",
    "for i in range(n):\n",
    "    trapped_water = trapped_water + (min(max_left[i], max_right[i]) - array[i])\n",
    "    \n",
    "print(trapped_water)"
   ]
  }
 ],
 "metadata": {
  "kernelspec": {
   "display_name": "Python 3",
   "language": "python",
   "name": "python3"
  },
  "language_info": {
   "codemirror_mode": {
    "name": "ipython",
    "version": 3
   },
   "file_extension": ".py",
   "mimetype": "text/x-python",
   "name": "python",
   "nbconvert_exporter": "python",
   "pygments_lexer": "ipython3",
   "version": "3.8.5"
  }
 },
 "nbformat": 4,
 "nbformat_minor": 4
}
