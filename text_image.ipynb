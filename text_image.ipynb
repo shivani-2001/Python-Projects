{
 "cells": [
  {
   "cell_type": "code",
   "execution_count": 2,
   "metadata": {
    "scrolled": false
   },
   "outputs": [
    {
     "name": "stdout",
     "output_type": "stream",
     "text": [
      "__________________________________\n",
      "Being\n",
      "honest may\n",
      "not get you\n",
      "a lot of\n",
      "\n",
      "ends,\n",
      "but it'll\n",
      "always get\n",
      "\n",
      "you tie\n",
      "right ones.\n",
      "\f",
      "\n"
     ]
    }
   ],
   "source": [
    "import pytesseract\n",
    "pytesseract.pytesseract.tesseract_cmd = r'E:/Tesseract-ocr/tesseract.exe'\n",
    "from PIL import Image\n",
    "image = Image.open(\"E:/DE/second.jpg\")\n",
    "text = pytesseract.image_to_string(image)\n",
    "print(\"__________________________________\")\n",
    "print(text)"
   ]
  }
 ],
 "metadata": {
  "kernelspec": {
   "display_name": "Python 3",
   "language": "python",
   "name": "python3"
  },
  "language_info": {
   "codemirror_mode": {
    "name": "ipython",
    "version": 3
   },
   "file_extension": ".py",
   "mimetype": "text/x-python",
   "name": "python",
   "nbconvert_exporter": "python",
   "pygments_lexer": "ipython3",
   "version": "3.8.3"
  }
 },
 "nbformat": 4,
 "nbformat_minor": 2
}
